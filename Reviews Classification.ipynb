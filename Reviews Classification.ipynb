{
 "cells": [
  {
   "cell_type": "markdown",
   "id": "162beac3",
   "metadata": {},
   "source": [
    "# Importing Libraries"
   ]
  },
  {
   "cell_type": "code",
   "execution_count": 1,
   "id": "c70eac4b",
   "metadata": {},
   "outputs": [],
   "source": [
    "import pandas as pd\n",
    "import numpy as np\n",
    "import tensorflow as tf\n",
    "import matplotlib.pyplot as plt\n",
    "%matplotlib inline"
   ]
  },
  {
   "cell_type": "markdown",
   "id": "87398c4d",
   "metadata": {},
   "source": [
    "# Importing Dataset"
   ]
  },
  {
   "cell_type": "code",
   "execution_count": 2,
   "id": "3c346c36",
   "metadata": {},
   "outputs": [
    {
     "data": {
      "text/plain": [
       "<module 'keras.api._v2.keras.datasets.imdb' from 'C:\\\\Program Files\\\\Python310\\\\lib\\\\site-packages\\\\keras\\\\api\\\\_v2\\\\keras\\\\datasets\\\\imdb\\\\__init__.py'>"
      ]
     },
     "execution_count": 2,
     "metadata": {},
     "output_type": "execute_result"
    }
   ],
   "source": [
    "df = tf.keras.datasets.imdb\n",
    "df"
   ]
  },
  {
   "cell_type": "markdown",
   "id": "6f53c65c",
   "metadata": {},
   "source": [
    "# Splitting Dataset"
   ]
  },
  {
   "cell_type": "code",
   "execution_count": 3,
   "id": "d1609aac",
   "metadata": {},
   "outputs": [],
   "source": [
    "(train_features, train_labels), (test_features, test_labels) = df.load_data(num_words=10000)"
   ]
  },
  {
   "cell_type": "code",
   "execution_count": 4,
   "id": "cb830e98",
   "metadata": {},
   "outputs": [
    {
     "data": {
      "text/plain": [
       "(25000,)"
      ]
     },
     "execution_count": 4,
     "metadata": {},
     "output_type": "execute_result"
    }
   ],
   "source": [
    "train_features.shape"
   ]
  },
  {
   "cell_type": "code",
   "execution_count": 5,
   "id": "4580aeac",
   "metadata": {},
   "outputs": [
    {
     "data": {
      "text/plain": [
       "(25000,)"
      ]
     },
     "execution_count": 5,
     "metadata": {},
     "output_type": "execute_result"
    }
   ],
   "source": [
    "train_labels.shape"
   ]
  },
  {
   "cell_type": "code",
   "execution_count": 6,
   "id": "f9ae6abd",
   "metadata": {},
   "outputs": [
    {
     "data": {
      "text/plain": [
       "(25000,)"
      ]
     },
     "execution_count": 6,
     "metadata": {},
     "output_type": "execute_result"
    }
   ],
   "source": [
    "test_features.shape"
   ]
  },
  {
   "cell_type": "code",
   "execution_count": 7,
   "id": "6c35d701",
   "metadata": {},
   "outputs": [
    {
     "data": {
      "text/plain": [
       "(25000,)"
      ]
     },
     "execution_count": 7,
     "metadata": {},
     "output_type": "execute_result"
    }
   ],
   "source": [
    "test_labels.shape"
   ]
  },
  {
   "cell_type": "markdown",
   "id": "470fd62d",
   "metadata": {},
   "source": [
    "# Checking Maximum number of words in dataset"
   ]
  },
  {
   "cell_type": "code",
   "execution_count": 8,
   "id": "e2672a2e",
   "metadata": {},
   "outputs": [
    {
     "data": {
      "text/plain": [
       "9999"
      ]
     },
     "execution_count": 8,
     "metadata": {},
     "output_type": "execute_result"
    }
   ],
   "source": [
    "max([max(sequence) for sequence in train_features])"
   ]
  },
  {
   "cell_type": "markdown",
   "id": "49f81b3e",
   "metadata": {},
   "source": [
    "# Vectorizing train and test data"
   ]
  },
  {
   "cell_type": "code",
   "execution_count": 9,
   "id": "a83f6de8",
   "metadata": {},
   "outputs": [],
   "source": [
    "def vectorize_sequences(sequences, dimensions=10000):\n",
    "    results = np.zeros((len(sequences), dimensions))\n",
    "    for i, sequence in enumerate(sequences):\n",
    "        results[i, sequence] = 1\n",
    "    return results"
   ]
  },
  {
   "cell_type": "code",
   "execution_count": 10,
   "id": "53d745a8",
   "metadata": {},
   "outputs": [
    {
     "data": {
      "text/plain": [
       "array([[0., 1., 1., ..., 0., 0., 0.],\n",
       "       [0., 1., 1., ..., 0., 0., 0.],\n",
       "       [0., 1., 1., ..., 0., 0., 0.],\n",
       "       ...,\n",
       "       [0., 1., 1., ..., 0., 0., 0.],\n",
       "       [0., 1., 1., ..., 0., 0., 0.],\n",
       "       [0., 1., 1., ..., 0., 0., 0.]])"
      ]
     },
     "execution_count": 10,
     "metadata": {},
     "output_type": "execute_result"
    }
   ],
   "source": [
    "train_features = vectorize_sequences(train_features)\n",
    "train_features"
   ]
  },
  {
   "cell_type": "code",
   "execution_count": 11,
   "id": "10301a5d",
   "metadata": {},
   "outputs": [
    {
     "data": {
      "text/plain": [
       "array([[0., 1., 1., ..., 0., 0., 0.],\n",
       "       [0., 1., 1., ..., 0., 0., 0.],\n",
       "       [0., 1., 1., ..., 0., 0., 0.],\n",
       "       ...,\n",
       "       [0., 1., 1., ..., 0., 0., 0.],\n",
       "       [0., 1., 1., ..., 0., 0., 0.],\n",
       "       [0., 1., 1., ..., 0., 0., 0.]])"
      ]
     },
     "execution_count": 11,
     "metadata": {},
     "output_type": "execute_result"
    }
   ],
   "source": [
    "test_features = vectorize_sequences(test_features)\n",
    "test_features"
   ]
  },
  {
   "cell_type": "code",
   "execution_count": 12,
   "id": "eaaa797e",
   "metadata": {},
   "outputs": [
    {
     "data": {
      "text/plain": [
       "(25000, 10000)"
      ]
     },
     "execution_count": 12,
     "metadata": {},
     "output_type": "execute_result"
    }
   ],
   "source": [
    "train_features.shape"
   ]
  },
  {
   "cell_type": "code",
   "execution_count": 13,
   "id": "0ad4ee8d",
   "metadata": {},
   "outputs": [
    {
     "data": {
      "text/plain": [
       "(25000, 10000)"
      ]
     },
     "execution_count": 13,
     "metadata": {},
     "output_type": "execute_result"
    }
   ],
   "source": [
    "test_features.shape"
   ]
  },
  {
   "cell_type": "code",
   "execution_count": 14,
   "id": "b10dab75",
   "metadata": {},
   "outputs": [
    {
     "data": {
      "text/plain": [
       "array([0., 1., 1., ..., 0., 0., 0.])"
      ]
     },
     "execution_count": 14,
     "metadata": {},
     "output_type": "execute_result"
    }
   ],
   "source": [
    "train_features[0]"
   ]
  },
  {
   "cell_type": "markdown",
   "id": "cc4813e4",
   "metadata": {},
   "source": [
    "# Creating Model"
   ]
  },
  {
   "cell_type": "code",
   "execution_count": 15,
   "id": "3ad20806",
   "metadata": {},
   "outputs": [],
   "source": [
    "model = tf.keras.Sequential([\n",
    "    tf.keras.layers.Dense(16, activation='relu'),\n",
    "    tf.keras.layers.Dense(16, activation='relu'),\n",
    "    tf.keras.layers.Dense(1, activation='sigmoid')\n",
    "])"
   ]
  },
  {
   "cell_type": "code",
   "execution_count": 16,
   "id": "a047f00e",
   "metadata": {},
   "outputs": [],
   "source": [
    "model.compile(optimizer='adam',\n",
    "             loss=tf.keras.losses.binary_crossentropy,\n",
    "             metrics=['accuracy'])"
   ]
  },
  {
   "cell_type": "markdown",
   "id": "6bbcd5ad",
   "metadata": {},
   "source": [
    "# Training Model"
   ]
  },
  {
   "cell_type": "code",
   "execution_count": 17,
   "id": "9a4027ac",
   "metadata": {},
   "outputs": [
    {
     "name": "stdout",
     "output_type": "stream",
     "text": [
      "Epoch 1/20\n",
      "782/782 [==============================] - 3s 2ms/step - loss: 0.3350 - accuracy: 0.8598\n",
      "Epoch 2/20\n",
      "782/782 [==============================] - 2s 2ms/step - loss: 0.1911 - accuracy: 0.9291\n",
      "Epoch 3/20\n",
      "782/782 [==============================] - 2s 2ms/step - loss: 0.1472 - accuracy: 0.9448\n",
      "Epoch 4/20\n",
      "782/782 [==============================] - 2s 2ms/step - loss: 0.1160 - accuracy: 0.9569\n",
      "Epoch 5/20\n",
      "782/782 [==============================] - 2s 2ms/step - loss: 0.0894 - accuracy: 0.9674\n",
      "Epoch 6/20\n",
      "782/782 [==============================] - 1s 2ms/step - loss: 0.0651 - accuracy: 0.9765\n",
      "Epoch 7/20\n",
      "782/782 [==============================] - 1s 2ms/step - loss: 0.0471 - accuracy: 0.9827\n",
      "Epoch 8/20\n",
      "782/782 [==============================] - 1s 2ms/step - loss: 0.0294 - accuracy: 0.9908\n",
      "Epoch 9/20\n",
      "782/782 [==============================] - 1s 2ms/step - loss: 0.0167 - accuracy: 0.9946\n",
      "Epoch 10/20\n",
      "782/782 [==============================] - 1s 2ms/step - loss: 0.0262 - accuracy: 0.9911\n",
      "Epoch 11/20\n",
      "782/782 [==============================] - 1s 2ms/step - loss: 0.0151 - accuracy: 0.9953\n",
      "Epoch 12/20\n",
      "782/782 [==============================] - 1s 2ms/step - loss: 0.0057 - accuracy: 0.9986\n",
      "Epoch 13/20\n",
      "782/782 [==============================] - 1s 2ms/step - loss: 0.0046 - accuracy: 0.9991\n",
      "Epoch 14/20\n",
      "782/782 [==============================] - 1s 2ms/step - loss: 0.0120 - accuracy: 0.9967\n",
      "Epoch 15/20\n",
      "782/782 [==============================] - 1s 2ms/step - loss: 0.0177 - accuracy: 0.9941\n",
      "Epoch 16/20\n",
      "782/782 [==============================] - 1s 2ms/step - loss: 0.0092 - accuracy: 0.9970\n",
      "Epoch 17/20\n",
      "782/782 [==============================] - 1s 2ms/step - loss: 0.0018 - accuracy: 0.9996\n",
      "Epoch 18/20\n",
      "782/782 [==============================] - 1s 2ms/step - loss: 0.0045 - accuracy: 0.9986\n",
      "Epoch 19/20\n",
      "782/782 [==============================] - 1s 2ms/step - loss: 0.0046 - accuracy: 0.9988\n",
      "Epoch 20/20\n",
      "782/782 [==============================] - 1s 2ms/step - loss: 0.0095 - accuracy: 0.9969\n"
     ]
    },
    {
     "data": {
      "text/plain": [
       "<keras.callbacks.History at 0x29e27c71450>"
      ]
     },
     "execution_count": 17,
     "metadata": {},
     "output_type": "execute_result"
    }
   ],
   "source": [
    "model.fit(train_features, train_labels, epochs=20)"
   ]
  },
  {
   "cell_type": "markdown",
   "id": "b944afc6",
   "metadata": {},
   "source": [
    "# Checking Model Accuracy"
   ]
  },
  {
   "cell_type": "code",
   "execution_count": 18,
   "id": "a22189f4",
   "metadata": {},
   "outputs": [
    {
     "name": "stdout",
     "output_type": "stream",
     "text": [
      "782/782 - 1s - loss: 1.5437 - accuracy: 0.8507 - 943ms/epoch - 1ms/step\n",
      "Test accuracy is  0.8507199883460999\n"
     ]
    }
   ],
   "source": [
    "test_loss, test_acc = model.evaluate(test_features, test_labels, verbose=2)\n",
    "print(\"Test accuracy is \", test_acc)"
   ]
  }
 ],
 "metadata": {
  "kernelspec": {
   "display_name": "Python 3 (ipykernel)",
   "language": "python",
   "name": "python3"
  },
  "language_info": {
   "codemirror_mode": {
    "name": "ipython",
    "version": 3
   },
   "file_extension": ".py",
   "mimetype": "text/x-python",
   "name": "python",
   "nbconvert_exporter": "python",
   "pygments_lexer": "ipython3",
   "version": "3.10.6"
  }
 },
 "nbformat": 4,
 "nbformat_minor": 5
}
