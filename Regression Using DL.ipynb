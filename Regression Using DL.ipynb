{
 "cells": [
  {
   "cell_type": "markdown",
   "id": "205dbef3",
   "metadata": {},
   "source": [
    "# Importing Libraries"
   ]
  },
  {
   "cell_type": "code",
   "execution_count": 1,
   "id": "f3f72734",
   "metadata": {},
   "outputs": [],
   "source": [
    "import pandas as pd\n",
    "import numpy as np\n",
    "import tensorflow as tf\n",
    "import matplotlib.pyplot as plt\n",
    "%matplotlib inline"
   ]
  },
  {
   "cell_type": "markdown",
   "id": "31005c1a",
   "metadata": {},
   "source": [
    "# Importig Dataset"
   ]
  },
  {
   "cell_type": "code",
   "execution_count": 2,
   "id": "09cd8651",
   "metadata": {},
   "outputs": [
    {
     "data": {
      "text/plain": [
       "<module 'keras.api._v2.keras.datasets.boston_housing' from 'C:\\\\Program Files\\\\Python310\\\\lib\\\\site-packages\\\\keras\\\\api\\\\_v2\\\\keras\\\\datasets\\\\boston_housing\\\\__init__.py'>"
      ]
     },
     "execution_count": 2,
     "metadata": {},
     "output_type": "execute_result"
    }
   ],
   "source": [
    "df = tf.keras.datasets.boston_housing\n",
    "df"
   ]
  },
  {
   "cell_type": "markdown",
   "id": "6316bef5",
   "metadata": {},
   "source": [
    "# Spliting Dataset"
   ]
  },
  {
   "cell_type": "code",
   "execution_count": 3,
   "id": "0cc587d4",
   "metadata": {},
   "outputs": [],
   "source": [
    "(train_features, train_label), (test_features, test_labels) = df.load_data()"
   ]
  },
  {
   "cell_type": "code",
   "execution_count": 4,
   "id": "10cd05b4",
   "metadata": {},
   "outputs": [
    {
     "data": {
      "text/plain": [
       "(404, 13)"
      ]
     },
     "execution_count": 4,
     "metadata": {},
     "output_type": "execute_result"
    }
   ],
   "source": [
    "train_features.shape"
   ]
  },
  {
   "cell_type": "code",
   "execution_count": 5,
   "id": "80b571b3",
   "metadata": {},
   "outputs": [
    {
     "data": {
      "text/plain": [
       "(404,)"
      ]
     },
     "execution_count": 5,
     "metadata": {},
     "output_type": "execute_result"
    }
   ],
   "source": [
    "train_label.shape"
   ]
  },
  {
   "cell_type": "code",
   "execution_count": 6,
   "id": "53bdf359",
   "metadata": {},
   "outputs": [
    {
     "data": {
      "text/plain": [
       "(102, 13)"
      ]
     },
     "execution_count": 6,
     "metadata": {},
     "output_type": "execute_result"
    }
   ],
   "source": [
    "test_features.shape"
   ]
  },
  {
   "cell_type": "code",
   "execution_count": 7,
   "id": "9316f334",
   "metadata": {},
   "outputs": [
    {
     "data": {
      "text/plain": [
       "(102,)"
      ]
     },
     "execution_count": 7,
     "metadata": {},
     "output_type": "execute_result"
    }
   ],
   "source": [
    "test_labels.shape"
   ]
  },
  {
   "cell_type": "markdown",
   "id": "6a65ff82",
   "metadata": {},
   "source": [
    "# Creating Model"
   ]
  },
  {
   "cell_type": "code",
   "execution_count": 8,
   "id": "feb9031d",
   "metadata": {},
   "outputs": [],
   "source": [
    "model = tf.keras.Sequential([\n",
    "    tf.keras.layers.Dense(128, activation='relu'),\n",
    "    tf.keras.layers.Dense(64, activation='relu'),\n",
    "    tf.keras.layers.Dense(32, activation='relu'),\n",
    "    tf.keras.layers.Dense(16, activation='relu'),\n",
    "    tf.keras.layers.Dense(1)\n",
    "])"
   ]
  },
  {
   "cell_type": "code",
   "execution_count": 9,
   "id": "daf17a5a",
   "metadata": {},
   "outputs": [],
   "source": [
    "model.compile(optimizer='adam', loss='mean_squared_error')"
   ]
  },
  {
   "cell_type": "markdown",
   "id": "3734ec49",
   "metadata": {},
   "source": [
    "# Training Model"
   ]
  },
  {
   "cell_type": "code",
   "execution_count": 10,
   "id": "39651111",
   "metadata": {},
   "outputs": [
    {
     "name": "stdout",
     "output_type": "stream",
     "text": [
      "Epoch 1/100\n",
      "13/13 [==============================] - 1s 2ms/step - loss: 152.1404\n",
      "Epoch 2/100\n",
      "13/13 [==============================] - 0s 2ms/step - loss: 69.7235\n",
      "Epoch 3/100\n",
      "13/13 [==============================] - 0s 2ms/step - loss: 63.5956\n",
      "Epoch 4/100\n",
      "13/13 [==============================] - 0s 2ms/step - loss: 58.8865\n",
      "Epoch 5/100\n",
      "13/13 [==============================] - 0s 2ms/step - loss: 56.4096\n",
      "Epoch 6/100\n",
      "13/13 [==============================] - 0s 2ms/step - loss: 57.2075\n",
      "Epoch 7/100\n",
      "13/13 [==============================] - 0s 2ms/step - loss: 56.7531\n",
      "Epoch 8/100\n",
      "13/13 [==============================] - 0s 2ms/step - loss: 57.3614\n",
      "Epoch 9/100\n",
      "13/13 [==============================] - 0s 2ms/step - loss: 59.2631\n",
      "Epoch 10/100\n",
      "13/13 [==============================] - 0s 2ms/step - loss: 53.3607\n",
      "Epoch 11/100\n",
      "13/13 [==============================] - 0s 2ms/step - loss: 54.5621\n",
      "Epoch 12/100\n",
      "13/13 [==============================] - 0s 2ms/step - loss: 53.3741\n",
      "Epoch 13/100\n",
      "13/13 [==============================] - 0s 2ms/step - loss: 50.6891\n",
      "Epoch 14/100\n",
      "13/13 [==============================] - 0s 2ms/step - loss: 49.8536\n",
      "Epoch 15/100\n",
      "13/13 [==============================] - 0s 2ms/step - loss: 45.4034\n",
      "Epoch 16/100\n",
      "13/13 [==============================] - 0s 2ms/step - loss: 51.7037\n",
      "Epoch 17/100\n",
      "13/13 [==============================] - 0s 2ms/step - loss: 56.5824\n",
      "Epoch 18/100\n",
      "13/13 [==============================] - 0s 2ms/step - loss: 47.1774\n",
      "Epoch 19/100\n",
      "13/13 [==============================] - 0s 2ms/step - loss: 46.0475\n",
      "Epoch 20/100\n",
      "13/13 [==============================] - 0s 2ms/step - loss: 42.5698\n",
      "Epoch 21/100\n",
      "13/13 [==============================] - 0s 2ms/step - loss: 44.3105\n",
      "Epoch 22/100\n",
      "13/13 [==============================] - 0s 2ms/step - loss: 48.4647\n",
      "Epoch 23/100\n",
      "13/13 [==============================] - 0s 2ms/step - loss: 54.3950\n",
      "Epoch 24/100\n",
      "13/13 [==============================] - 0s 2ms/step - loss: 41.1901\n",
      "Epoch 25/100\n",
      "13/13 [==============================] - 0s 2ms/step - loss: 40.5633\n",
      "Epoch 26/100\n",
      "13/13 [==============================] - 0s 2ms/step - loss: 38.1327\n",
      "Epoch 27/100\n",
      "13/13 [==============================] - 0s 2ms/step - loss: 39.7419\n",
      "Epoch 28/100\n",
      "13/13 [==============================] - 0s 2ms/step - loss: 37.0687\n",
      "Epoch 29/100\n",
      "13/13 [==============================] - 0s 2ms/step - loss: 41.1161\n",
      "Epoch 30/100\n",
      "13/13 [==============================] - 0s 2ms/step - loss: 38.2344\n",
      "Epoch 31/100\n",
      "13/13 [==============================] - 0s 2ms/step - loss: 37.3989\n",
      "Epoch 32/100\n",
      "13/13 [==============================] - 0s 2ms/step - loss: 36.6274\n",
      "Epoch 33/100\n",
      "13/13 [==============================] - 0s 2ms/step - loss: 42.1364\n",
      "Epoch 34/100\n",
      "13/13 [==============================] - 0s 2ms/step - loss: 36.3146\n",
      "Epoch 35/100\n",
      "13/13 [==============================] - 0s 2ms/step - loss: 32.4143\n",
      "Epoch 36/100\n",
      "13/13 [==============================] - 0s 2ms/step - loss: 32.1047\n",
      "Epoch 37/100\n",
      "13/13 [==============================] - 0s 2ms/step - loss: 32.8158\n",
      "Epoch 38/100\n",
      "13/13 [==============================] - 0s 2ms/step - loss: 43.8937\n",
      "Epoch 39/100\n",
      "13/13 [==============================] - 0s 2ms/step - loss: 34.1878\n",
      "Epoch 40/100\n",
      "13/13 [==============================] - 0s 2ms/step - loss: 30.2091\n",
      "Epoch 41/100\n",
      "13/13 [==============================] - 0s 2ms/step - loss: 34.2224\n",
      "Epoch 42/100\n",
      "13/13 [==============================] - 0s 2ms/step - loss: 32.0655\n",
      "Epoch 43/100\n",
      "13/13 [==============================] - 0s 2ms/step - loss: 29.4372\n",
      "Epoch 44/100\n",
      "13/13 [==============================] - 0s 2ms/step - loss: 26.0796\n",
      "Epoch 45/100\n",
      "13/13 [==============================] - 0s 2ms/step - loss: 31.0059\n",
      "Epoch 46/100\n",
      "13/13 [==============================] - 0s 2ms/step - loss: 28.9343\n",
      "Epoch 47/100\n",
      "13/13 [==============================] - 0s 2ms/step - loss: 24.9101\n",
      "Epoch 48/100\n",
      "13/13 [==============================] - 0s 2ms/step - loss: 24.1259\n",
      "Epoch 49/100\n",
      "13/13 [==============================] - 0s 2ms/step - loss: 26.9167\n",
      "Epoch 50/100\n",
      "13/13 [==============================] - 0s 2ms/step - loss: 23.7264\n",
      "Epoch 51/100\n",
      "13/13 [==============================] - 0s 2ms/step - loss: 26.2568\n",
      "Epoch 52/100\n",
      "13/13 [==============================] - 0s 2ms/step - loss: 31.2851\n",
      "Epoch 53/100\n",
      "13/13 [==============================] - 0s 2ms/step - loss: 26.6018\n",
      "Epoch 54/100\n",
      "13/13 [==============================] - 0s 2ms/step - loss: 29.0187\n",
      "Epoch 55/100\n",
      "13/13 [==============================] - 0s 2ms/step - loss: 22.3397\n",
      "Epoch 56/100\n",
      "13/13 [==============================] - 0s 2ms/step - loss: 18.6333\n",
      "Epoch 57/100\n",
      "13/13 [==============================] - 0s 2ms/step - loss: 19.4796\n",
      "Epoch 58/100\n",
      "13/13 [==============================] - 0s 2ms/step - loss: 23.5785\n",
      "Epoch 59/100\n",
      "13/13 [==============================] - 0s 2ms/step - loss: 18.7725\n",
      "Epoch 60/100\n",
      "13/13 [==============================] - 0s 2ms/step - loss: 18.5847\n",
      "Epoch 61/100\n",
      "13/13 [==============================] - 0s 2ms/step - loss: 17.8801\n",
      "Epoch 62/100\n",
      "13/13 [==============================] - 0s 2ms/step - loss: 16.6665\n",
      "Epoch 63/100\n",
      "13/13 [==============================] - 0s 2ms/step - loss: 17.2237\n",
      "Epoch 64/100\n",
      "13/13 [==============================] - 0s 2ms/step - loss: 18.6817\n",
      "Epoch 65/100\n",
      "13/13 [==============================] - 0s 2ms/step - loss: 18.7470\n",
      "Epoch 66/100\n",
      "13/13 [==============================] - 0s 2ms/step - loss: 17.8394\n",
      "Epoch 67/100\n",
      "13/13 [==============================] - 0s 2ms/step - loss: 17.7209\n",
      "Epoch 68/100\n",
      "13/13 [==============================] - 0s 2ms/step - loss: 19.8350\n",
      "Epoch 69/100\n",
      "13/13 [==============================] - 0s 2ms/step - loss: 16.6484\n",
      "Epoch 70/100\n",
      "13/13 [==============================] - 0s 2ms/step - loss: 15.0382\n",
      "Epoch 71/100\n",
      "13/13 [==============================] - 0s 2ms/step - loss: 14.7928\n",
      "Epoch 72/100\n",
      "13/13 [==============================] - 0s 2ms/step - loss: 17.9639\n",
      "Epoch 73/100\n",
      "13/13 [==============================] - 0s 2ms/step - loss: 20.5303\n",
      "Epoch 74/100\n",
      "13/13 [==============================] - 0s 2ms/step - loss: 17.0111\n",
      "Epoch 75/100\n",
      "13/13 [==============================] - 0s 2ms/step - loss: 15.8141\n",
      "Epoch 76/100\n",
      "13/13 [==============================] - 0s 2ms/step - loss: 15.5839\n",
      "Epoch 77/100\n",
      "13/13 [==============================] - 0s 2ms/step - loss: 15.3417\n",
      "Epoch 78/100\n",
      "13/13 [==============================] - 0s 2ms/step - loss: 20.2445\n",
      "Epoch 79/100\n",
      "13/13 [==============================] - 0s 2ms/step - loss: 18.0443\n",
      "Epoch 80/100\n",
      "13/13 [==============================] - 0s 2ms/step - loss: 15.3881\n",
      "Epoch 81/100\n",
      "13/13 [==============================] - 0s 2ms/step - loss: 14.3792\n",
      "Epoch 82/100\n",
      "13/13 [==============================] - 0s 2ms/step - loss: 19.2337\n",
      "Epoch 83/100\n",
      "13/13 [==============================] - 0s 2ms/step - loss: 18.4130\n",
      "Epoch 84/100\n",
      "13/13 [==============================] - 0s 2ms/step - loss: 23.8815\n",
      "Epoch 85/100\n",
      "13/13 [==============================] - 0s 1ms/step - loss: 26.2721\n",
      "Epoch 86/100\n",
      "13/13 [==============================] - 0s 2ms/step - loss: 23.6077\n",
      "Epoch 87/100\n",
      "13/13 [==============================] - 0s 2ms/step - loss: 30.2183\n",
      "Epoch 88/100\n",
      "13/13 [==============================] - 0s 2ms/step - loss: 22.3248\n",
      "Epoch 89/100\n",
      "13/13 [==============================] - 0s 2ms/step - loss: 20.7743\n",
      "Epoch 90/100\n",
      "13/13 [==============================] - 0s 2ms/step - loss: 20.0912\n",
      "Epoch 91/100\n",
      "13/13 [==============================] - 0s 2ms/step - loss: 13.6656\n",
      "Epoch 92/100\n",
      "13/13 [==============================] - 0s 2ms/step - loss: 15.9528\n",
      "Epoch 93/100\n",
      "13/13 [==============================] - 0s 2ms/step - loss: 15.0664\n",
      "Epoch 94/100\n",
      "13/13 [==============================] - 0s 2ms/step - loss: 13.4901\n",
      "Epoch 95/100\n",
      "13/13 [==============================] - 0s 2ms/step - loss: 17.5731\n",
      "Epoch 96/100\n",
      "13/13 [==============================] - 0s 2ms/step - loss: 17.6288\n",
      "Epoch 97/100\n",
      "13/13 [==============================] - 0s 2ms/step - loss: 13.3065\n",
      "Epoch 98/100\n",
      "13/13 [==============================] - 0s 2ms/step - loss: 13.1714\n",
      "Epoch 99/100\n",
      "13/13 [==============================] - 0s 2ms/step - loss: 12.0587\n",
      "Epoch 100/100\n",
      "13/13 [==============================] - 0s 2ms/step - loss: 14.4124\n"
     ]
    },
    {
     "data": {
      "text/plain": [
       "<keras.callbacks.History at 0x1cbd6d27c40>"
      ]
     },
     "execution_count": 10,
     "metadata": {},
     "output_type": "execute_result"
    }
   ],
   "source": [
    "model.fit(train_features, train_label, epochs=100)"
   ]
  },
  {
   "cell_type": "markdown",
   "id": "499882fc",
   "metadata": {},
   "source": [
    "# Making Prediction Using Model"
   ]
  },
  {
   "cell_type": "code",
   "execution_count": 11,
   "id": "62e4a89b",
   "metadata": {},
   "outputs": [
    {
     "name": "stdout",
     "output_type": "stream",
     "text": [
      "4/4 [==============================] - 0s 667us/step\n"
     ]
    }
   ],
   "source": [
    "predicted_labels = model.predict(test_features)"
   ]
  },
  {
   "cell_type": "markdown",
   "id": "1a599ae2",
   "metadata": {},
   "source": [
    "# Checking Model Accuracy Using MSE"
   ]
  },
  {
   "cell_type": "code",
   "execution_count": 12,
   "id": "3780f65f",
   "metadata": {},
   "outputs": [
    {
     "name": "stdout",
     "output_type": "stream",
     "text": [
      "30.809173165018294\n"
     ]
    }
   ],
   "source": [
    "from sklearn.metrics import mean_squared_error\n",
    "print(mean_squared_error(test_labels, predicted_labels))"
   ]
  }
 ],
 "metadata": {
  "kernelspec": {
   "display_name": "Python 3 (ipykernel)",
   "language": "python",
   "name": "python3"
  },
  "language_info": {
   "codemirror_mode": {
    "name": "ipython",
    "version": 3
   },
   "file_extension": ".py",
   "mimetype": "text/x-python",
   "name": "python",
   "nbconvert_exporter": "python",
   "pygments_lexer": "ipython3",
   "version": "3.10.6"
  }
 },
 "nbformat": 4,
 "nbformat_minor": 5
}
